{
 "cells": [
  {
   "cell_type": "markdown",
   "metadata": {},
   "source": [
    "# Project Outline"
   ]
  },
  {
   "cell_type": "markdown",
   "metadata": {},
   "source": [
    "This project looks at the stock price of Roku. By doing a time series analysis and also a sentiment analysis on social media for the stock price of Roku we will try and predict future prices."
   ]
  },
  {
   "cell_type": "markdown",
   "metadata": {},
   "source": [
    "Project flow:\n",
    " * Gather stock price (Gathering_Data notebook)\n",
    " * Gather posts from twitter and reddit (Gathering_Data notebook)\n",
    " * Clean up and do EDA (Gathering_Data notebook)\n",
    " * Do a sentiment analysis for each day (This notebook)\n",
    " * Do a time series analysis on both stock price and sentiment individually (This notebook)\n",
    " * Combine the sentiment and stock price to try and predict future prices (This notebook)"
   ]
  },
  {
   "cell_type": "markdown",
   "metadata": {},
   "source": [
    "# Importing packages and loading data"
   ]
  },
  {
   "cell_type": "code",
   "execution_count": 2,
   "metadata": {
    "ExecuteTime": {
     "end_time": "2021-06-09T02:18:43.285441Z",
     "start_time": "2021-06-09T02:18:35.228470Z"
    }
   },
   "outputs": [],
   "source": [
    "# Importing packages\n",
    "import pandas as pd\n",
    "import numpy as np\n",
    "import matplotlib.pyplot as plt\n",
    "import twint\n",
    "import spacy\n",
    "from spacytextblob.spacytextblob import SpacyTextBlob\n",
    "import datetime as dt\n",
    "import time\n",
    "\n",
    "pd.set_option('display.max_rows', 100)\n",
    "pd.set_option('display.max_columns', 100)\n"
   ]
  },
  {
   "cell_type": "code",
   "execution_count": 33,
   "metadata": {
    "ExecuteTime": {
     "end_time": "2021-06-09T03:00:21.042956Z",
     "start_time": "2021-06-09T03:00:20.974791Z"
    }
   },
   "outputs": [],
   "source": [
    "# Loading data\n",
    "T_df = pd.read_csv('TwitterData.csv', header=None)\n",
    "T_df.columns = ['id', 'date', 'timezone', 'tweet', 'language', 'cashtags', \n",
    "                'username', 'day', 'hour', 'nlikes', 'nreplies', 'nretweets', 'search']\n",
    "R_df = pd.read_csv('redditdata.csv')\n",
    "S_df = pd.read_csv('StockData.csv')"
   ]
  },
  {
   "cell_type": "markdown",
   "metadata": {},
   "source": [
    "# Clean up and EDA"
   ]
  },
  {
   "cell_type": "markdown",
   "metadata": {
    "heading_collapsed": true
   },
   "source": [
    "## Clean up Twitter EDA"
   ]
  },
  {
   "cell_type": "code",
   "execution_count": 34,
   "metadata": {
    "ExecuteTime": {
     "end_time": "2021-06-09T03:00:23.472668Z",
     "start_time": "2021-06-09T03:00:23.449746Z"
    },
    "hidden": true
   },
   "outputs": [
    {
     "name": "stdout",
     "output_type": "stream",
     "text": [
      "(666, 13)\n"
     ]
    },
    {
     "data": {
      "text/html": [
       "<div>\n",
       "<style scoped>\n",
       "    .dataframe tbody tr th:only-of-type {\n",
       "        vertical-align: middle;\n",
       "    }\n",
       "\n",
       "    .dataframe tbody tr th {\n",
       "        vertical-align: top;\n",
       "    }\n",
       "\n",
       "    .dataframe thead th {\n",
       "        text-align: right;\n",
       "    }\n",
       "</style>\n",
       "<table border=\"1\" class=\"dataframe\">\n",
       "  <thead>\n",
       "    <tr style=\"text-align: right;\">\n",
       "      <th></th>\n",
       "      <th>id</th>\n",
       "      <th>date</th>\n",
       "      <th>timezone</th>\n",
       "      <th>tweet</th>\n",
       "      <th>language</th>\n",
       "      <th>cashtags</th>\n",
       "      <th>username</th>\n",
       "      <th>day</th>\n",
       "      <th>hour</th>\n",
       "      <th>nlikes</th>\n",
       "      <th>nreplies</th>\n",
       "      <th>nretweets</th>\n",
       "      <th>search</th>\n",
       "    </tr>\n",
       "  </thead>\n",
       "  <tbody>\n",
       "    <tr>\n",
       "      <th>0</th>\n",
       "      <td>913765506456473600</td>\n",
       "      <td>2017-09-29 09:00:48</td>\n",
       "      <td>-500</td>\n",
       "      <td>$1900 in 10 minutes on $ROKU, so glad the mark...</td>\n",
       "      <td>en</td>\n",
       "      <td>['roku']</td>\n",
       "      <td>eatsleepprofit</td>\n",
       "      <td>5</td>\n",
       "      <td>9</td>\n",
       "      <td>69</td>\n",
       "      <td>8</td>\n",
       "      <td>2</td>\n",
       "      <td>$ROKU</td>\n",
       "    </tr>\n",
       "    <tr>\n",
       "      <th>1</th>\n",
       "      <td>913841066473869313</td>\n",
       "      <td>2017-09-29 14:01:03</td>\n",
       "      <td>-500</td>\n",
       "      <td>$ROKU is already up almost 100% since its IPO....</td>\n",
       "      <td>en</td>\n",
       "      <td>['roku']</td>\n",
       "      <td>Stocktwits</td>\n",
       "      <td>5</td>\n",
       "      <td>14</td>\n",
       "      <td>40</td>\n",
       "      <td>5</td>\n",
       "      <td>23</td>\n",
       "      <td>$ROKU</td>\n",
       "    </tr>\n",
       "    <tr>\n",
       "      <th>2</th>\n",
       "      <td>914147418316398592</td>\n",
       "      <td>2017-09-30 10:18:23</td>\n",
       "      <td>-500</td>\n",
       "      <td>Mystified by $ROKU's IPO? @JimCramer's breakin...</td>\n",
       "      <td>en</td>\n",
       "      <td>['roku']</td>\n",
       "      <td>MadMoneyOnCNBC</td>\n",
       "      <td>6</td>\n",
       "      <td>10</td>\n",
       "      <td>29</td>\n",
       "      <td>5</td>\n",
       "      <td>11</td>\n",
       "      <td>$ROKU</td>\n",
       "    </tr>\n",
       "    <tr>\n",
       "      <th>3</th>\n",
       "      <td>913892627845570560</td>\n",
       "      <td>2017-09-29 17:25:56</td>\n",
       "      <td>-500</td>\n",
       "      <td>$ROKU Long. One Ticker, a few trades. Couldve ...</td>\n",
       "      <td>en</td>\n",
       "      <td>['roku']</td>\n",
       "      <td>SmashTheBid</td>\n",
       "      <td>5</td>\n",
       "      <td>17</td>\n",
       "      <td>28</td>\n",
       "      <td>4</td>\n",
       "      <td>0</td>\n",
       "      <td>$ROKU</td>\n",
       "    </tr>\n",
       "    <tr>\n",
       "      <th>4</th>\n",
       "      <td>913843670872444928</td>\n",
       "      <td>2017-09-29 14:11:24</td>\n",
       "      <td>-500</td>\n",
       "      <td>Love #Pennystocks Nice Friday for my 2 account...</td>\n",
       "      <td>en</td>\n",
       "      <td>['vcel', 'izea', 'gluu', 'roku']</td>\n",
       "      <td>EbogeyEd</td>\n",
       "      <td>5</td>\n",
       "      <td>14</td>\n",
       "      <td>24</td>\n",
       "      <td>1</td>\n",
       "      <td>3</td>\n",
       "      <td>$ROKU</td>\n",
       "    </tr>\n",
       "  </tbody>\n",
       "</table>\n",
       "</div>"
      ],
      "text/plain": [
       "                   id                 date  timezone  \\\n",
       "0  913765506456473600  2017-09-29 09:00:48      -500   \n",
       "1  913841066473869313  2017-09-29 14:01:03      -500   \n",
       "2  914147418316398592  2017-09-30 10:18:23      -500   \n",
       "3  913892627845570560  2017-09-29 17:25:56      -500   \n",
       "4  913843670872444928  2017-09-29 14:11:24      -500   \n",
       "\n",
       "                                               tweet language  \\\n",
       "0  $1900 in 10 minutes on $ROKU, so glad the mark...       en   \n",
       "1  $ROKU is already up almost 100% since its IPO....       en   \n",
       "2  Mystified by $ROKU's IPO? @JimCramer's breakin...       en   \n",
       "3  $ROKU Long. One Ticker, a few trades. Couldve ...       en   \n",
       "4  Love #Pennystocks Nice Friday for my 2 account...       en   \n",
       "\n",
       "                           cashtags        username  day  hour  nlikes  \\\n",
       "0                          ['roku']  eatsleepprofit    5     9      69   \n",
       "1                          ['roku']      Stocktwits    5    14      40   \n",
       "2                          ['roku']  MadMoneyOnCNBC    6    10      29   \n",
       "3                          ['roku']     SmashTheBid    5    17      28   \n",
       "4  ['vcel', 'izea', 'gluu', 'roku']        EbogeyEd    5    14      24   \n",
       "\n",
       "   nreplies  nretweets search  \n",
       "0         8          2  $ROKU  \n",
       "1         5         23  $ROKU  \n",
       "2         5         11  $ROKU  \n",
       "3         4          0  $ROKU  \n",
       "4         1          3  $ROKU  "
      ]
     },
     "execution_count": 34,
     "metadata": {},
     "output_type": "execute_result"
    }
   ],
   "source": [
    "print(T_df.shape)\n",
    "T_df.head()"
   ]
  },
  {
   "cell_type": "code",
   "execution_count": 46,
   "metadata": {
    "ExecuteTime": {
     "end_time": "2021-06-09T03:06:33.546769Z",
     "start_time": "2021-06-09T03:06:33.529051Z"
    },
    "hidden": true
   },
   "outputs": [],
   "source": [
    "# Making date in dataframe just the date and no time\n",
    "T_df['date'] = T_df.date.apply(lambda x: x.split(' ',1)[0])\n",
    "\n",
    "# Dropping any scraped entries that aren't english\n",
    "T_df.drop(T_df[T_df['language'] != 'en'].index, inplace = True)\n",
    "\n",
    "# Only keeping date and tweet\n",
    "T_df = T_df[['date','tweet']]"
   ]
  },
  {
   "cell_type": "markdown",
   "metadata": {},
   "source": [
    "## Clean up Reddit"
   ]
  },
  {
   "cell_type": "code",
   "execution_count": 48,
   "metadata": {
    "ExecuteTime": {
     "end_time": "2021-06-09T03:07:43.214246Z",
     "start_time": "2021-06-09T03:07:43.194184Z"
    }
   },
   "outputs": [
    {
     "data": {
      "text/html": [
       "<div>\n",
       "<style scoped>\n",
       "    .dataframe tbody tr th:only-of-type {\n",
       "        vertical-align: middle;\n",
       "    }\n",
       "\n",
       "    .dataframe tbody tr th {\n",
       "        vertical-align: top;\n",
       "    }\n",
       "\n",
       "    .dataframe thead th {\n",
       "        text-align: right;\n",
       "    }\n",
       "</style>\n",
       "<table border=\"1\" class=\"dataframe\">\n",
       "  <thead>\n",
       "    <tr style=\"text-align: right;\">\n",
       "      <th></th>\n",
       "      <th>ID</th>\n",
       "      <th>Num_Comments</th>\n",
       "      <th>Score</th>\n",
       "      <th>Subreddit</th>\n",
       "      <th>Title</th>\n",
       "      <th>Upvote_Ratio</th>\n",
       "      <th>Created</th>\n",
       "      <th>Created_utc</th>\n",
       "      <th>Self_text</th>\n",
       "      <th>Date</th>\n",
       "    </tr>\n",
       "  </thead>\n",
       "  <tbody>\n",
       "    <tr>\n",
       "      <th>0</th>\n",
       "      <td>730n8l</td>\n",
       "      <td>50</td>\n",
       "      <td>113</td>\n",
       "      <td>investing</td>\n",
       "      <td>ROKU up 28% shortly after IPO</td>\n",
       "      <td>0.91</td>\n",
       "      <td>1.506640e+09</td>\n",
       "      <td>1.506611e+09</td>\n",
       "      <td>http://www.hollywoodreporter.com/news/roku-sto...</td>\n",
       "      <td>2017-09-28</td>\n",
       "    </tr>\n",
       "    <tr>\n",
       "      <th>1</th>\n",
       "      <td>72ztnr</td>\n",
       "      <td>0</td>\n",
       "      <td>35</td>\n",
       "      <td>stocks</td>\n",
       "      <td>9/28 Thursday Stock Market Movers &amp; News</td>\n",
       "      <td>0.89</td>\n",
       "      <td>1.506631e+09</td>\n",
       "      <td>1.506603e+09</td>\n",
       "      <td>#Good morning traders of the r/stocks sub! Hap...</td>\n",
       "      <td>2017-09-28</td>\n",
       "    </tr>\n",
       "    <tr>\n",
       "      <th>2</th>\n",
       "      <td>730zps</td>\n",
       "      <td>31</td>\n",
       "      <td>26</td>\n",
       "      <td>wallstreetbets</td>\n",
       "      <td>WHEN TO SHORT ROKU</td>\n",
       "      <td>0.85</td>\n",
       "      <td>1.506643e+09</td>\n",
       "      <td>1.506614e+09</td>\n",
       "      <td>this company does nothing new, i think 24~ SHO...</td>\n",
       "      <td>2017-09-28</td>\n",
       "    </tr>\n",
       "    <tr>\n",
       "      <th>3</th>\n",
       "      <td>7314h8</td>\n",
       "      <td>37</td>\n",
       "      <td>20</td>\n",
       "      <td>wallstreetbets</td>\n",
       "      <td>ROKU now listex on NASDAQ. Up 35% so far</td>\n",
       "      <td>0.95</td>\n",
       "      <td>1.506644e+09</td>\n",
       "      <td>1.506615e+09</td>\n",
       "      <td>NaN</td>\n",
       "      <td>2017-09-28</td>\n",
       "    </tr>\n",
       "    <tr>\n",
       "      <th>4</th>\n",
       "      <td>730jwz</td>\n",
       "      <td>33</td>\n",
       "      <td>14</td>\n",
       "      <td>wallstreetbets</td>\n",
       "      <td>$ROKU IPO, to the moon...?</td>\n",
       "      <td>0.90</td>\n",
       "      <td>1.506639e+09</td>\n",
       "      <td>1.506610e+09</td>\n",
       "      <td>Why isn't this thing available on my POS broke...</td>\n",
       "      <td>2017-09-28</td>\n",
       "    </tr>\n",
       "  </tbody>\n",
       "</table>\n",
       "</div>"
      ],
      "text/plain": [
       "       ID  Num_Comments  Score       Subreddit  \\\n",
       "0  730n8l            50    113       investing   \n",
       "1  72ztnr             0     35          stocks   \n",
       "2  730zps            31     26  wallstreetbets   \n",
       "3  7314h8            37     20  wallstreetbets   \n",
       "4  730jwz            33     14  wallstreetbets   \n",
       "\n",
       "                                      Title  Upvote_Ratio       Created  \\\n",
       "0             ROKU up 28% shortly after IPO          0.91  1.506640e+09   \n",
       "1  9/28 Thursday Stock Market Movers & News          0.89  1.506631e+09   \n",
       "2                        WHEN TO SHORT ROKU          0.85  1.506643e+09   \n",
       "3  ROKU now listex on NASDAQ. Up 35% so far          0.95  1.506644e+09   \n",
       "4                $ROKU IPO, to the moon...?          0.90  1.506639e+09   \n",
       "\n",
       "    Created_utc                                          Self_text        Date  \n",
       "0  1.506611e+09  http://www.hollywoodreporter.com/news/roku-sto...  2017-09-28  \n",
       "1  1.506603e+09  #Good morning traders of the r/stocks sub! Hap...  2017-09-28  \n",
       "2  1.506614e+09  this company does nothing new, i think 24~ SHO...  2017-09-28  \n",
       "3  1.506615e+09                                                NaN  2017-09-28  \n",
       "4  1.506610e+09  Why isn't this thing available on my POS broke...  2017-09-28  "
      ]
     },
     "execution_count": 48,
     "metadata": {},
     "output_type": "execute_result"
    }
   ],
   "source": [
    "R_df.head()"
   ]
  },
  {
   "cell_type": "markdown",
   "metadata": {
    "heading_collapsed": true
   },
   "source": [
    "# Checking spacy sentiment things"
   ]
  },
  {
   "cell_type": "code",
   "execution_count": 2,
   "metadata": {
    "ExecuteTime": {
     "end_time": "2021-06-09T02:10:27.349631Z",
     "start_time": "2021-06-09T02:10:26.247031Z"
    },
    "hidden": true
   },
   "outputs": [
    {
     "data": {
      "text/plain": [
       "[(['really', 'horrible'], -1.0, 1.0, None),\n",
       " (['worst', '!'], -1.0, 1.0, None),\n",
       " (['really', 'good'], 0.7, 0.6000000000000001, None),\n",
       " (['happy'], 0.8, 1.0, None)]"
      ]
     },
     "execution_count": 2,
     "metadata": {},
     "output_type": "execute_result"
    }
   ],
   "source": [
    "nlp = spacy.load('en_core_web_sm')\n",
    "nlp.add_pipe('spacytextblob')\n",
    "text = 'I had a really horrible day. It was the worst day ever! But every now and then I have a really good day that makes me happy.'\n",
    "doc = nlp(text)\n",
    "doc._.polarity      # Polarity: -0.125\n",
    "doc._.subjectivity  # Sujectivity: 0.9\n",
    "doc._.assessments  "
   ]
  },
  {
   "cell_type": "code",
   "execution_count": null,
   "metadata": {
    "hidden": true
   },
   "outputs": [],
   "source": []
  }
 ],
 "metadata": {
  "kernelspec": {
   "display_name": "Python [conda env:Capstone] *",
   "language": "python",
   "name": "conda-env-Capstone-py"
  },
  "language_info": {
   "codemirror_mode": {
    "name": "ipython",
    "version": 3
   },
   "file_extension": ".py",
   "mimetype": "text/x-python",
   "name": "python",
   "nbconvert_exporter": "python",
   "pygments_lexer": "ipython3",
   "version": "3.6.9"
  },
  "toc": {
   "base_numbering": 1,
   "nav_menu": {},
   "number_sections": true,
   "sideBar": true,
   "skip_h1_title": false,
   "title_cell": "Table of Contents",
   "title_sidebar": "Contents",
   "toc_cell": false,
   "toc_position": {},
   "toc_section_display": true,
   "toc_window_display": false
  },
  "varInspector": {
   "cols": {
    "lenName": 16,
    "lenType": 16,
    "lenVar": 40
   },
   "kernels_config": {
    "python": {
     "delete_cmd_postfix": "",
     "delete_cmd_prefix": "del ",
     "library": "var_list.py",
     "varRefreshCmd": "print(var_dic_list())"
    },
    "r": {
     "delete_cmd_postfix": ") ",
     "delete_cmd_prefix": "rm(",
     "library": "var_list.r",
     "varRefreshCmd": "cat(var_dic_list()) "
    }
   },
   "types_to_exclude": [
    "module",
    "function",
    "builtin_function_or_method",
    "instance",
    "_Feature"
   ],
   "window_display": false
  }
 },
 "nbformat": 4,
 "nbformat_minor": 2
}
