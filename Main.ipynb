{
 "cells": [
  {
   "cell_type": "markdown",
   "metadata": {},
   "source": [
    "# Project Outline"
   ]
  },
  {
   "cell_type": "markdown",
   "metadata": {},
   "source": [
    "This project looks at the stock price of Roku. By doing a time series analysis and also a sentiment analysis on social media for the stock price of Roku we will try and predict future prices."
   ]
  },
  {
   "cell_type": "markdown",
   "metadata": {},
   "source": [
    "Project flow:\n",
    " * Gather stock price (Gathering_Data notebook)\n",
    " * Gather posts from twitter and reddit (Gathering_Data notebook)\n",
    " * Clean up and do EDA (Gathering_Data notebook)\n",
    " * Do a sentiment analysis for each day (This notebook)\n",
    " * Do a time series analysis on both stock price and sentiment individually (This notebook)\n",
    " * Combine the sentiment and stock price to try and predict future prices (This notebook)"
   ]
  },
  {
   "cell_type": "markdown",
   "metadata": {
    "heading_collapsed": true
   },
   "source": [
    "# Importing packages and loading data"
   ]
  },
  {
   "cell_type": "code",
   "execution_count": 1,
   "metadata": {
    "ExecuteTime": {
     "end_time": "2021-06-15T23:43:28.561819Z",
     "start_time": "2021-06-15T23:43:20.824523Z"
    },
    "hidden": true
   },
   "outputs": [],
   "source": [
    "# Importing packages\n",
    "import pandas as pd\n",
    "import numpy as np\n",
    "import matplotlib.pyplot as plt\n",
    "import twint\n",
    "import spacy\n",
    "from spacytextblob.spacytextblob import SpacyTextBlob\n",
    "import datetime as dt\n",
    "import time\n",
    "import re\n",
    "import nltk\n",
    "from vaderSentiment.vaderSentiment import SentimentIntensityAnalyzer\n",
    "from nltk.corpus import stopwords\n",
    "\n",
    "pd.set_option('display.max_rows', 100)\n",
    "pd.set_option('display.max_columns', 100)"
   ]
  },
  {
   "cell_type": "code",
   "execution_count": 2,
   "metadata": {
    "ExecuteTime": {
     "end_time": "2021-06-15T23:43:28.708006Z",
     "start_time": "2021-06-15T23:43:28.564508Z"
    },
    "hidden": true
   },
   "outputs": [],
   "source": [
    "# Loading data\n",
    "T_df = pd.read_csv('TwitterData.csv', header=None)\n",
    "T_df.columns = ['id', 'date', 'timezone', 'tweet', 'language', 'cashtags', \n",
    "                'username', 'day', 'hour', 'nlikes', 'nreplies', 'nretweets', 'search']\n",
    "R_df = pd.read_csv('redditdata.csv')\n",
    "S_df = pd.read_csv('StockData.csv')"
   ]
  },
  {
   "cell_type": "markdown",
   "metadata": {
    "heading_collapsed": true
   },
   "source": [
    "# Functions"
   ]
  },
  {
   "cell_type": "code",
   "execution_count": 3,
   "metadata": {
    "ExecuteTime": {
     "end_time": "2021-06-15T23:43:28.717249Z",
     "start_time": "2021-06-15T23:43:28.710418Z"
    },
    "hidden": true
   },
   "outputs": [],
   "source": [
    "# This function will remove emojis from the text\n",
    "\n",
    "def RemoveEmojis(string):\n",
    "    emoji_pattern = re.compile(\"[\"\n",
    "                               u\"\\U0001F600-\\U0001F64F\"  # emoticons\n",
    "                               u\"\\U0001F300-\\U0001F5FF\"  # symbols & pictographs\n",
    "                               u\"\\U0001F680-\\U0001F6FF\"  # transport & map symbols\n",
    "                               u\"\\U0001F1E0-\\U0001F1FF\"  # flags (iOS)\n",
    "                               u\"\\U00002702-\\U000027B0\"\n",
    "                               u\"\\U000024C2-\\U0001F251\"\n",
    "                               \"]+\", flags=re.UNICODE)\n",
    "    return emoji_pattern.sub(r'', string)"
   ]
  },
  {
   "cell_type": "code",
   "execution_count": 43,
   "metadata": {
    "ExecuteTime": {
     "end_time": "2021-06-15T23:57:23.841319Z",
     "start_time": "2021-06-15T23:57:23.834417Z"
    },
    "hidden": true
   },
   "outputs": [],
   "source": [
    "# This function is to run text through spacy/textblob pipeline\n",
    "def Sentiment(text):\n",
    "    \n",
    "    #Initializing Sentiment analyzer\n",
    "    SIA = SentimentIntensityAnalyzer()\n",
    "    \n",
    "    # Words to add to the sentiment lexicon\n",
    "    new_words = {\n",
    "        'bullish': 3.4,\n",
    "        'bull':3.4,\n",
    "        'long':3.4,\n",
    "        'longs':3.4,\n",
    "        'Holding':3.4,\n",
    "        'holding':3.4,\n",
    "        'Hodl':3.4,\n",
    "        'hodl':3.4,\n",
    "        'Call':3.4,\n",
    "        'Calls':3.4,\n",
    "        'call':3.4,\n",
    "        'calls':3.4,\n",
    "        'Put':-3.9,\n",
    "        'Puts':-3.9,\n",
    "        'put':-3.9,\n",
    "        'puts':-3.9,\n",
    "        'bear':-3.9,\n",
    "        'bearish':-3.9,\n",
    "        'short': -3.9,\n",
    "        'shorts':-3.9\n",
    "        }\n",
    "\n",
    "    # Updating lexicon\n",
    "    SIA.lexicon.update(new_words)\n",
    "    \n",
    "    # Running\n",
    "    output = SIA.polarity_scores(text)\n",
    "    \n",
    "    return output['compound']"
   ]
  },
  {
   "cell_type": "markdown",
   "metadata": {
    "heading_collapsed": true
   },
   "source": [
    "# Clean up and EDA"
   ]
  },
  {
   "cell_type": "markdown",
   "metadata": {
    "heading_collapsed": true,
    "hidden": true
   },
   "source": [
    "## Clean up Twitter EDA"
   ]
  },
  {
   "cell_type": "code",
   "execution_count": 5,
   "metadata": {
    "ExecuteTime": {
     "end_time": "2021-06-15T23:43:28.787133Z",
     "start_time": "2021-06-15T23:43:28.740852Z"
    },
    "hidden": true
   },
   "outputs": [
    {
     "name": "stdout",
     "output_type": "stream",
     "text": [
      "(666, 13)\n"
     ]
    },
    {
     "data": {
      "text/html": [
       "<div>\n",
       "<style scoped>\n",
       "    .dataframe tbody tr th:only-of-type {\n",
       "        vertical-align: middle;\n",
       "    }\n",
       "\n",
       "    .dataframe tbody tr th {\n",
       "        vertical-align: top;\n",
       "    }\n",
       "\n",
       "    .dataframe thead th {\n",
       "        text-align: right;\n",
       "    }\n",
       "</style>\n",
       "<table border=\"1\" class=\"dataframe\">\n",
       "  <thead>\n",
       "    <tr style=\"text-align: right;\">\n",
       "      <th></th>\n",
       "      <th>id</th>\n",
       "      <th>date</th>\n",
       "      <th>timezone</th>\n",
       "      <th>tweet</th>\n",
       "      <th>language</th>\n",
       "      <th>cashtags</th>\n",
       "      <th>username</th>\n",
       "      <th>day</th>\n",
       "      <th>hour</th>\n",
       "      <th>nlikes</th>\n",
       "      <th>nreplies</th>\n",
       "      <th>nretweets</th>\n",
       "      <th>search</th>\n",
       "    </tr>\n",
       "  </thead>\n",
       "  <tbody>\n",
       "    <tr>\n",
       "      <th>0</th>\n",
       "      <td>913765506456473600</td>\n",
       "      <td>2017-09-29 09:00:48</td>\n",
       "      <td>-500</td>\n",
       "      <td>$1900 in 10 minutes on $ROKU, so glad the mark...</td>\n",
       "      <td>en</td>\n",
       "      <td>['roku']</td>\n",
       "      <td>eatsleepprofit</td>\n",
       "      <td>5</td>\n",
       "      <td>9</td>\n",
       "      <td>69</td>\n",
       "      <td>8</td>\n",
       "      <td>2</td>\n",
       "      <td>$ROKU</td>\n",
       "    </tr>\n",
       "    <tr>\n",
       "      <th>1</th>\n",
       "      <td>913841066473869313</td>\n",
       "      <td>2017-09-29 14:01:03</td>\n",
       "      <td>-500</td>\n",
       "      <td>$ROKU is already up almost 100% since its IPO....</td>\n",
       "      <td>en</td>\n",
       "      <td>['roku']</td>\n",
       "      <td>Stocktwits</td>\n",
       "      <td>5</td>\n",
       "      <td>14</td>\n",
       "      <td>40</td>\n",
       "      <td>5</td>\n",
       "      <td>23</td>\n",
       "      <td>$ROKU</td>\n",
       "    </tr>\n",
       "    <tr>\n",
       "      <th>2</th>\n",
       "      <td>914147418316398592</td>\n",
       "      <td>2017-09-30 10:18:23</td>\n",
       "      <td>-500</td>\n",
       "      <td>Mystified by $ROKU's IPO? @JimCramer's breakin...</td>\n",
       "      <td>en</td>\n",
       "      <td>['roku']</td>\n",
       "      <td>MadMoneyOnCNBC</td>\n",
       "      <td>6</td>\n",
       "      <td>10</td>\n",
       "      <td>29</td>\n",
       "      <td>5</td>\n",
       "      <td>11</td>\n",
       "      <td>$ROKU</td>\n",
       "    </tr>\n",
       "    <tr>\n",
       "      <th>3</th>\n",
       "      <td>913892627845570560</td>\n",
       "      <td>2017-09-29 17:25:56</td>\n",
       "      <td>-500</td>\n",
       "      <td>$ROKU Long. One Ticker, a few trades. Couldve ...</td>\n",
       "      <td>en</td>\n",
       "      <td>['roku']</td>\n",
       "      <td>SmashTheBid</td>\n",
       "      <td>5</td>\n",
       "      <td>17</td>\n",
       "      <td>28</td>\n",
       "      <td>4</td>\n",
       "      <td>0</td>\n",
       "      <td>$ROKU</td>\n",
       "    </tr>\n",
       "    <tr>\n",
       "      <th>4</th>\n",
       "      <td>913843670872444928</td>\n",
       "      <td>2017-09-29 14:11:24</td>\n",
       "      <td>-500</td>\n",
       "      <td>Love #Pennystocks Nice Friday for my 2 account...</td>\n",
       "      <td>en</td>\n",
       "      <td>['vcel', 'izea', 'gluu', 'roku']</td>\n",
       "      <td>EbogeyEd</td>\n",
       "      <td>5</td>\n",
       "      <td>14</td>\n",
       "      <td>24</td>\n",
       "      <td>1</td>\n",
       "      <td>3</td>\n",
       "      <td>$ROKU</td>\n",
       "    </tr>\n",
       "  </tbody>\n",
       "</table>\n",
       "</div>"
      ],
      "text/plain": [
       "                   id                 date  timezone  \\\n",
       "0  913765506456473600  2017-09-29 09:00:48      -500   \n",
       "1  913841066473869313  2017-09-29 14:01:03      -500   \n",
       "2  914147418316398592  2017-09-30 10:18:23      -500   \n",
       "3  913892627845570560  2017-09-29 17:25:56      -500   \n",
       "4  913843670872444928  2017-09-29 14:11:24      -500   \n",
       "\n",
       "                                               tweet language  \\\n",
       "0  $1900 in 10 minutes on $ROKU, so glad the mark...       en   \n",
       "1  $ROKU is already up almost 100% since its IPO....       en   \n",
       "2  Mystified by $ROKU's IPO? @JimCramer's breakin...       en   \n",
       "3  $ROKU Long. One Ticker, a few trades. Couldve ...       en   \n",
       "4  Love #Pennystocks Nice Friday for my 2 account...       en   \n",
       "\n",
       "                           cashtags        username  day  hour  nlikes  \\\n",
       "0                          ['roku']  eatsleepprofit    5     9      69   \n",
       "1                          ['roku']      Stocktwits    5    14      40   \n",
       "2                          ['roku']  MadMoneyOnCNBC    6    10      29   \n",
       "3                          ['roku']     SmashTheBid    5    17      28   \n",
       "4  ['vcel', 'izea', 'gluu', 'roku']        EbogeyEd    5    14      24   \n",
       "\n",
       "   nreplies  nretweets search  \n",
       "0         8          2  $ROKU  \n",
       "1         5         23  $ROKU  \n",
       "2         5         11  $ROKU  \n",
       "3         4          0  $ROKU  \n",
       "4         1          3  $ROKU  "
      ]
     },
     "execution_count": 5,
     "metadata": {},
     "output_type": "execute_result"
    }
   ],
   "source": [
    "print(T_df.shape)\n",
    "T_df.head()"
   ]
  },
  {
   "cell_type": "code",
   "execution_count": 6,
   "metadata": {
    "ExecuteTime": {
     "end_time": "2021-06-15T23:43:28.826500Z",
     "start_time": "2021-06-15T23:43:28.797817Z"
    },
    "hidden": true
   },
   "outputs": [],
   "source": [
    "# Making date in dataframe just the date and no time\n",
    "T_df['date'] = T_df.date.apply(lambda x: x.split(' ',1)[0])\n",
    "\n",
    "# Dropping any scraped entries that aren't english\n",
    "T_df.drop(T_df[T_df['language'] != 'en'].index, inplace = True)\n",
    "\n",
    "# Only keeping date and tweet\n",
    "T_df = T_df[['date','tweet']]"
   ]
  },
  {
   "cell_type": "code",
   "execution_count": 7,
   "metadata": {
    "ExecuteTime": {
     "end_time": "2021-06-15T23:43:28.984642Z",
     "start_time": "2021-06-15T23:43:28.831278Z"
    },
    "hidden": true
   },
   "outputs": [],
   "source": [
    "# Removing any url links\n",
    "T_df['tweet_LinkRemoved'] = T_df.tweet.apply(\n",
    "    lambda x: re.sub(r'https\\S+', '', x))\n",
    "\n",
    "# Removing any emojis\n",
    "T_df['tweet_Link+Emoji_Removed'] = T_df.tweet_LinkRemoved.apply(\n",
    "    lambda x: RemoveEmojis(x))\n",
    "\n",
    "# Change things to lower case\n",
    "T_df['tweet_cleaned_lowercase'] = T_df['tweet_Link+Emoji_Removed'].apply(\n",
    "    lambda x: \" \".join(x.lower() for x in x.split()))\n",
    "\n",
    "# Remove punctuations\n",
    "T_df['tweet_cleaned_lower_NoPunct'] = T_df['tweet_cleaned_lowercase'].str.replace(\n",
    "    '[^\\w\\s]', '')\n",
    "\n",
    "# Remove stopwards\n",
    "stop = stopwords.words('english')\n",
    "T_df['tweet_FinalClean'] = T_df['tweet_cleaned_lower_NoPunct'].apply(\n",
    "    lambda x: \" \".join(x for x in x.split() if x not in stop))"
   ]
  },
  {
   "cell_type": "markdown",
   "metadata": {
    "heading_collapsed": true,
    "hidden": true
   },
   "source": [
    "## Clean up Reddit"
   ]
  },
  {
   "cell_type": "code",
   "execution_count": 8,
   "metadata": {
    "ExecuteTime": {
     "end_time": "2021-06-15T23:43:29.014360Z",
     "start_time": "2021-06-15T23:43:28.988723Z"
    },
    "hidden": true
   },
   "outputs": [
    {
     "data": {
      "text/html": [
       "<div>\n",
       "<style scoped>\n",
       "    .dataframe tbody tr th:only-of-type {\n",
       "        vertical-align: middle;\n",
       "    }\n",
       "\n",
       "    .dataframe tbody tr th {\n",
       "        vertical-align: top;\n",
       "    }\n",
       "\n",
       "    .dataframe thead th {\n",
       "        text-align: right;\n",
       "    }\n",
       "</style>\n",
       "<table border=\"1\" class=\"dataframe\">\n",
       "  <thead>\n",
       "    <tr style=\"text-align: right;\">\n",
       "      <th></th>\n",
       "      <th>ID</th>\n",
       "      <th>Num_Comments</th>\n",
       "      <th>Score</th>\n",
       "      <th>Subreddit</th>\n",
       "      <th>Title</th>\n",
       "      <th>Upvote_Ratio</th>\n",
       "      <th>Created</th>\n",
       "      <th>Created_utc</th>\n",
       "      <th>Self_text</th>\n",
       "      <th>Date</th>\n",
       "    </tr>\n",
       "  </thead>\n",
       "  <tbody>\n",
       "    <tr>\n",
       "      <th>0</th>\n",
       "      <td>730n8l</td>\n",
       "      <td>50</td>\n",
       "      <td>113</td>\n",
       "      <td>investing</td>\n",
       "      <td>ROKU up 28% shortly after IPO</td>\n",
       "      <td>0.91</td>\n",
       "      <td>1.506640e+09</td>\n",
       "      <td>1.506611e+09</td>\n",
       "      <td>http://www.hollywoodreporter.com/news/roku-sto...</td>\n",
       "      <td>2017-09-28</td>\n",
       "    </tr>\n",
       "    <tr>\n",
       "      <th>1</th>\n",
       "      <td>72ztnr</td>\n",
       "      <td>0</td>\n",
       "      <td>35</td>\n",
       "      <td>stocks</td>\n",
       "      <td>9/28 Thursday Stock Market Movers &amp; News</td>\n",
       "      <td>0.89</td>\n",
       "      <td>1.506631e+09</td>\n",
       "      <td>1.506603e+09</td>\n",
       "      <td>#Good morning traders of the r/stocks sub! Hap...</td>\n",
       "      <td>2017-09-28</td>\n",
       "    </tr>\n",
       "    <tr>\n",
       "      <th>2</th>\n",
       "      <td>730zps</td>\n",
       "      <td>31</td>\n",
       "      <td>26</td>\n",
       "      <td>wallstreetbets</td>\n",
       "      <td>WHEN TO SHORT ROKU</td>\n",
       "      <td>0.85</td>\n",
       "      <td>1.506643e+09</td>\n",
       "      <td>1.506614e+09</td>\n",
       "      <td>this company does nothing new, i think 24~ SHO...</td>\n",
       "      <td>2017-09-28</td>\n",
       "    </tr>\n",
       "    <tr>\n",
       "      <th>3</th>\n",
       "      <td>7314h8</td>\n",
       "      <td>37</td>\n",
       "      <td>20</td>\n",
       "      <td>wallstreetbets</td>\n",
       "      <td>ROKU now listex on NASDAQ. Up 35% so far</td>\n",
       "      <td>0.95</td>\n",
       "      <td>1.506644e+09</td>\n",
       "      <td>1.506615e+09</td>\n",
       "      <td>NaN</td>\n",
       "      <td>2017-09-28</td>\n",
       "    </tr>\n",
       "    <tr>\n",
       "      <th>4</th>\n",
       "      <td>730jwz</td>\n",
       "      <td>33</td>\n",
       "      <td>14</td>\n",
       "      <td>wallstreetbets</td>\n",
       "      <td>$ROKU IPO, to the moon...?</td>\n",
       "      <td>0.90</td>\n",
       "      <td>1.506639e+09</td>\n",
       "      <td>1.506610e+09</td>\n",
       "      <td>Why isn't this thing available on my POS broke...</td>\n",
       "      <td>2017-09-28</td>\n",
       "    </tr>\n",
       "  </tbody>\n",
       "</table>\n",
       "</div>"
      ],
      "text/plain": [
       "       ID  Num_Comments  Score       Subreddit  \\\n",
       "0  730n8l            50    113       investing   \n",
       "1  72ztnr             0     35          stocks   \n",
       "2  730zps            31     26  wallstreetbets   \n",
       "3  7314h8            37     20  wallstreetbets   \n",
       "4  730jwz            33     14  wallstreetbets   \n",
       "\n",
       "                                      Title  Upvote_Ratio       Created  \\\n",
       "0             ROKU up 28% shortly after IPO          0.91  1.506640e+09   \n",
       "1  9/28 Thursday Stock Market Movers & News          0.89  1.506631e+09   \n",
       "2                        WHEN TO SHORT ROKU          0.85  1.506643e+09   \n",
       "3  ROKU now listex on NASDAQ. Up 35% so far          0.95  1.506644e+09   \n",
       "4                $ROKU IPO, to the moon...?          0.90  1.506639e+09   \n",
       "\n",
       "    Created_utc                                          Self_text        Date  \n",
       "0  1.506611e+09  http://www.hollywoodreporter.com/news/roku-sto...  2017-09-28  \n",
       "1  1.506603e+09  #Good morning traders of the r/stocks sub! Hap...  2017-09-28  \n",
       "2  1.506614e+09  this company does nothing new, i think 24~ SHO...  2017-09-28  \n",
       "3  1.506615e+09                                                NaN  2017-09-28  \n",
       "4  1.506610e+09  Why isn't this thing available on my POS broke...  2017-09-28  "
      ]
     },
     "execution_count": 8,
     "metadata": {},
     "output_type": "execute_result"
    }
   ],
   "source": [
    "R_df.head()"
   ]
  },
  {
   "cell_type": "code",
   "execution_count": 9,
   "metadata": {
    "ExecuteTime": {
     "end_time": "2021-06-15T23:43:29.042214Z",
     "start_time": "2021-06-15T23:43:29.017693Z"
    },
    "hidden": true
   },
   "outputs": [],
   "source": [
    "# The things we care about are date, subreddit, title, and self_text\n",
    "R_df = R_df[['Date','Subreddit','Title','Self_text']]\n",
    "\n",
    "# Combining the title and self text\n",
    "R_df['Self_text'] = R_df['Self_text'].fillna('.')\n",
    "R_df['Combined_text'] = R_df['Title'] + ' ' + R_df['Self_text']"
   ]
  },
  {
   "cell_type": "code",
   "execution_count": 10,
   "metadata": {
    "ExecuteTime": {
     "end_time": "2021-06-15T23:43:30.035313Z",
     "start_time": "2021-06-15T23:43:29.044995Z"
    },
    "hidden": true
   },
   "outputs": [],
   "source": [
    "# Removing any links\n",
    "R_df['Combined_text_LinksRemoved'] = R_df.Combined_text.apply(\n",
    "    lambda x: re.sub(r'https\\S+', '', x))\n",
    "R_df['Combined_text_LinksRemoved'] = R_df.Combined_text_LinksRemoved.apply(\n",
    "    lambda x: re.sub(r'http\\S+', '', x))\n",
    "\n",
    "# Removing any emojis\n",
    "R_df['Combined_text_Link+Emoji_Removed'] = R_df.Combined_text_LinksRemoved.apply(lambda x: RemoveEmojis(x))\n",
    "\n",
    "# Change things to lower case\n",
    "R_df['Combined_text_cleaned_lowercase'] = R_df['Combined_text_Link+Emoji_Removed'].apply(\n",
    "    lambda x: \" \".join(x.lower() for x in x.split()))\n",
    "\n",
    "# Remove punctuations\n",
    "R_df['Combined_text_cleaned_lower_NoPunct'] = R_df['Combined_text_cleaned_lowercase'].str.replace(\n",
    "    '[^\\w\\s]', '')\n",
    "\n",
    "# Remove stopwards\n",
    "stop = stopwords.words('english')\n",
    "R_df['Combined_text_FinalClean'] = R_df['Combined_text_cleaned_lower_NoPunct'].apply(\n",
    "    lambda x: \" \".join(x for x in x.split() if x not in stop))"
   ]
  },
  {
   "cell_type": "code",
   "execution_count": 11,
   "metadata": {
    "ExecuteTime": {
     "end_time": "2021-06-15T23:43:30.082322Z",
     "start_time": "2021-06-15T23:43:30.037905Z"
    },
    "hidden": true
   },
   "outputs": [
    {
     "data": {
      "text/html": [
       "<div>\n",
       "<style scoped>\n",
       "    .dataframe tbody tr th:only-of-type {\n",
       "        vertical-align: middle;\n",
       "    }\n",
       "\n",
       "    .dataframe tbody tr th {\n",
       "        vertical-align: top;\n",
       "    }\n",
       "\n",
       "    .dataframe thead th {\n",
       "        text-align: right;\n",
       "    }\n",
       "</style>\n",
       "<table border=\"1\" class=\"dataframe\">\n",
       "  <thead>\n",
       "    <tr style=\"text-align: right;\">\n",
       "      <th></th>\n",
       "      <th>Date</th>\n",
       "      <th>Subreddit</th>\n",
       "      <th>Title</th>\n",
       "      <th>Self_text</th>\n",
       "      <th>Combined_text</th>\n",
       "      <th>Combined_text_LinksRemoved</th>\n",
       "      <th>Combined_text_Link+Emoji_Removed</th>\n",
       "      <th>Combined_text_cleaned_lowercase</th>\n",
       "      <th>Combined_text_cleaned_lower_NoPunct</th>\n",
       "      <th>Combined_text_FinalClean</th>\n",
       "    </tr>\n",
       "  </thead>\n",
       "  <tbody>\n",
       "    <tr>\n",
       "      <th>0</th>\n",
       "      <td>2017-09-28</td>\n",
       "      <td>investing</td>\n",
       "      <td>ROKU up 28% shortly after IPO</td>\n",
       "      <td>http://www.hollywoodreporter.com/news/roku-sto...</td>\n",
       "      <td>ROKU up 28% shortly after IPO http://www.holly...</td>\n",
       "      <td>ROKU up 28% shortly after IPO \\n\\n&gt;The video s...</td>\n",
       "      <td>ROKU up 28% shortly after IPO \\n\\n&gt;The video s...</td>\n",
       "      <td>roku up 28% shortly after ipo &gt;the video strea...</td>\n",
       "      <td>roku up 28 shortly after ipo the video streami...</td>\n",
       "      <td>roku 28 shortly ipo video streaming device mak...</td>\n",
       "    </tr>\n",
       "    <tr>\n",
       "      <th>1</th>\n",
       "      <td>2017-09-28</td>\n",
       "      <td>stocks</td>\n",
       "      <td>9/28 Thursday Stock Market Movers &amp; News</td>\n",
       "      <td>#Good morning traders of the r/stocks sub! Hap...</td>\n",
       "      <td>9/28 Thursday Stock Market Movers &amp; News #Good...</td>\n",
       "      <td>9/28 Thursday Stock Market Movers &amp; News #Good...</td>\n",
       "      <td>9/28 Thursday Stock Market Movers &amp; News #Good...</td>\n",
       "      <td>9/28 thursday stock market movers &amp; news #good...</td>\n",
       "      <td>928 thursday stock market movers  news good mo...</td>\n",
       "      <td>928 thursday stock market movers news good mor...</td>\n",
       "    </tr>\n",
       "    <tr>\n",
       "      <th>2</th>\n",
       "      <td>2017-09-28</td>\n",
       "      <td>wallstreetbets</td>\n",
       "      <td>WHEN TO SHORT ROKU</td>\n",
       "      <td>this company does nothing new, i think 24~ SHO...</td>\n",
       "      <td>WHEN TO SHORT ROKU this company does nothing n...</td>\n",
       "      <td>WHEN TO SHORT ROKU this company does nothing n...</td>\n",
       "      <td>WHEN TO SHORT ROKU this company does nothing n...</td>\n",
       "      <td>when to short roku this company does nothing n...</td>\n",
       "      <td>when to short roku this company does nothing n...</td>\n",
       "      <td>short roku company nothing new think 24 short ...</td>\n",
       "    </tr>\n",
       "    <tr>\n",
       "      <th>3</th>\n",
       "      <td>2017-09-28</td>\n",
       "      <td>wallstreetbets</td>\n",
       "      <td>ROKU now listex on NASDAQ. Up 35% so far</td>\n",
       "      <td>.</td>\n",
       "      <td>ROKU now listex on NASDAQ. Up 35% so far .</td>\n",
       "      <td>ROKU now listex on NASDAQ. Up 35% so far .</td>\n",
       "      <td>ROKU now listex on NASDAQ. Up 35% so far .</td>\n",
       "      <td>roku now listex on nasdaq. up 35% so far .</td>\n",
       "      <td>roku now listex on nasdaq up 35 so far</td>\n",
       "      <td>roku listex nasdaq 35 far</td>\n",
       "    </tr>\n",
       "    <tr>\n",
       "      <th>4</th>\n",
       "      <td>2017-09-28</td>\n",
       "      <td>wallstreetbets</td>\n",
       "      <td>$ROKU IPO, to the moon...?</td>\n",
       "      <td>Why isn't this thing available on my POS broke...</td>\n",
       "      <td>$ROKU IPO, to the moon...? Why isn't this thin...</td>\n",
       "      <td>$ROKU IPO, to the moon...? Why isn't this thin...</td>\n",
       "      <td>$ROKU IPO, to the moon...? Why isn't this thin...</td>\n",
       "      <td>$roku ipo, to the moon...? why isn't this thin...</td>\n",
       "      <td>roku ipo to the moon why isnt this thing avail...</td>\n",
       "      <td>roku ipo moon isnt thing available pos brokers</td>\n",
       "    </tr>\n",
       "    <tr>\n",
       "      <th>...</th>\n",
       "      <td>...</td>\n",
       "      <td>...</td>\n",
       "      <td>...</td>\n",
       "      <td>...</td>\n",
       "      <td>...</td>\n",
       "      <td>...</td>\n",
       "      <td>...</td>\n",
       "      <td>...</td>\n",
       "      <td>...</td>\n",
       "      <td>...</td>\n",
       "    </tr>\n",
       "    <tr>\n",
       "      <th>613</th>\n",
       "      <td>2021-05-11</td>\n",
       "      <td>wallstreetbets</td>\n",
       "      <td>$FUBO - Archegos, Misreported Earnings, and th...</td>\n",
       "      <td>Reporting AH ( 45 mins ) so i dont have much t...</td>\n",
       "      <td>$FUBO - Archegos, Misreported Earnings, and th...</td>\n",
       "      <td>$FUBO - Archegos, Misreported Earnings, and th...</td>\n",
       "      <td>$FUBO - Archegos, Misreported Earnings, and th...</td>\n",
       "      <td>$fubo - archegos, misreported earnings, and th...</td>\n",
       "      <td>fubo  archegos misreported earnings and the qu...</td>\n",
       "      <td>fubo archegos misreported earnings quiet perio...</td>\n",
       "    </tr>\n",
       "    <tr>\n",
       "      <th>614</th>\n",
       "      <td>2021-05-12</td>\n",
       "      <td>investing</td>\n",
       "      <td>Best Dip Stocks to buy right now</td>\n",
       "      <td>Hey y'all,\\n\\nI have alot of cash lying around...</td>\n",
       "      <td>Best Dip Stocks to buy right now Hey y'all,\\n\\...</td>\n",
       "      <td>Best Dip Stocks to buy right now Hey y'all,\\n\\...</td>\n",
       "      <td>Best Dip Stocks to buy right now Hey y'all,\\n\\...</td>\n",
       "      <td>best dip stocks to buy right now hey y'all, i ...</td>\n",
       "      <td>best dip stocks to buy right now hey yall i ha...</td>\n",
       "      <td>best dip stocks buy right hey yall alot cash l...</td>\n",
       "    </tr>\n",
       "    <tr>\n",
       "      <th>615</th>\n",
       "      <td>2021-05-13</td>\n",
       "      <td>Daytrading</td>\n",
       "      <td>The Only Watch List You Need May 13, 2021</td>\n",
       "      <td>*The original Gap Watch List Poster! The one t...</td>\n",
       "      <td>The Only Watch List You Need May 13, 2021 *The...</td>\n",
       "      <td>The Only Watch List You Need May 13, 2021 *The...</td>\n",
       "      <td>The Only Watch List You Need May 13, 2021 *The...</td>\n",
       "      <td>the only watch list you need may 13, 2021 *the...</td>\n",
       "      <td>the only watch list you need may 13 2021 the o...</td>\n",
       "      <td>watch list need may 13 2021 original gap watch...</td>\n",
       "    </tr>\n",
       "    <tr>\n",
       "      <th>616</th>\n",
       "      <td>2021-05-20</td>\n",
       "      <td>wallstreetbets</td>\n",
       "      <td>PUBM DD #1</td>\n",
       "      <td>\\n\\nA little bit about myself for context:\\n\\...</td>\n",
       "      <td>PUBM DD #1  \\n\\nA little bit about myself for ...</td>\n",
       "      <td>PUBM DD #1  \\n\\nA little bit about myself for ...</td>\n",
       "      <td>PUBM DD #1  \\n\\nA little bit about myself for ...</td>\n",
       "      <td>pubm dd #1 a little bit about myself for conte...</td>\n",
       "      <td>pubm dd 1 a little bit about myself for contex...</td>\n",
       "      <td>pubm dd 1 little bit context 1 work enterprise...</td>\n",
       "    </tr>\n",
       "    <tr>\n",
       "      <th>617</th>\n",
       "      <td>2021-05-25</td>\n",
       "      <td>stocks</td>\n",
       "      <td>Amazon’s ad revenue is now twice as big as Sna...</td>\n",
       "      <td>https://www.cnbc.com/2021/05/25/amazon-ad-reve...</td>\n",
       "      <td>Amazon’s ad revenue is now twice as big as Sna...</td>\n",
       "      <td>Amazon’s ad revenue is now twice as big as Sna...</td>\n",
       "      <td>Amazon’s ad revenue is now twice as big as Sna...</td>\n",
       "      <td>amazon’s ad revenue is now twice as big as sna...</td>\n",
       "      <td>amazons ad revenue is now twice as big as snap...</td>\n",
       "      <td>amazons ad revenue twice big snap twitter roku...</td>\n",
       "    </tr>\n",
       "  </tbody>\n",
       "</table>\n",
       "<p>618 rows × 10 columns</p>\n",
       "</div>"
      ],
      "text/plain": [
       "           Date       Subreddit  \\\n",
       "0    2017-09-28       investing   \n",
       "1    2017-09-28          stocks   \n",
       "2    2017-09-28  wallstreetbets   \n",
       "3    2017-09-28  wallstreetbets   \n",
       "4    2017-09-28  wallstreetbets   \n",
       "..          ...             ...   \n",
       "613  2021-05-11  wallstreetbets   \n",
       "614  2021-05-12       investing   \n",
       "615  2021-05-13      Daytrading   \n",
       "616  2021-05-20  wallstreetbets   \n",
       "617  2021-05-25          stocks   \n",
       "\n",
       "                                                 Title  \\\n",
       "0                        ROKU up 28% shortly after IPO   \n",
       "1             9/28 Thursday Stock Market Movers & News   \n",
       "2                                   WHEN TO SHORT ROKU   \n",
       "3             ROKU now listex on NASDAQ. Up 35% so far   \n",
       "4                           $ROKU IPO, to the moon...?   \n",
       "..                                                 ...   \n",
       "613  $FUBO - Archegos, Misreported Earnings, and th...   \n",
       "614                   Best Dip Stocks to buy right now   \n",
       "615          The Only Watch List You Need May 13, 2021   \n",
       "616                                         PUBM DD #1   \n",
       "617  Amazon’s ad revenue is now twice as big as Sna...   \n",
       "\n",
       "                                             Self_text  \\\n",
       "0    http://www.hollywoodreporter.com/news/roku-sto...   \n",
       "1    #Good morning traders of the r/stocks sub! Hap...   \n",
       "2    this company does nothing new, i think 24~ SHO...   \n",
       "3                                                    .   \n",
       "4    Why isn't this thing available on my POS broke...   \n",
       "..                                                 ...   \n",
       "613  Reporting AH ( 45 mins ) so i dont have much t...   \n",
       "614  Hey y'all,\\n\\nI have alot of cash lying around...   \n",
       "615  *The original Gap Watch List Poster! The one t...   \n",
       "616   \\n\\nA little bit about myself for context:\\n\\...   \n",
       "617  https://www.cnbc.com/2021/05/25/amazon-ad-reve...   \n",
       "\n",
       "                                         Combined_text  \\\n",
       "0    ROKU up 28% shortly after IPO http://www.holly...   \n",
       "1    9/28 Thursday Stock Market Movers & News #Good...   \n",
       "2    WHEN TO SHORT ROKU this company does nothing n...   \n",
       "3           ROKU now listex on NASDAQ. Up 35% so far .   \n",
       "4    $ROKU IPO, to the moon...? Why isn't this thin...   \n",
       "..                                                 ...   \n",
       "613  $FUBO - Archegos, Misreported Earnings, and th...   \n",
       "614  Best Dip Stocks to buy right now Hey y'all,\\n\\...   \n",
       "615  The Only Watch List You Need May 13, 2021 *The...   \n",
       "616  PUBM DD #1  \\n\\nA little bit about myself for ...   \n",
       "617  Amazon’s ad revenue is now twice as big as Sna...   \n",
       "\n",
       "                            Combined_text_LinksRemoved  \\\n",
       "0    ROKU up 28% shortly after IPO \\n\\n>The video s...   \n",
       "1    9/28 Thursday Stock Market Movers & News #Good...   \n",
       "2    WHEN TO SHORT ROKU this company does nothing n...   \n",
       "3           ROKU now listex on NASDAQ. Up 35% so far .   \n",
       "4    $ROKU IPO, to the moon...? Why isn't this thin...   \n",
       "..                                                 ...   \n",
       "613  $FUBO - Archegos, Misreported Earnings, and th...   \n",
       "614  Best Dip Stocks to buy right now Hey y'all,\\n\\...   \n",
       "615  The Only Watch List You Need May 13, 2021 *The...   \n",
       "616  PUBM DD #1  \\n\\nA little bit about myself for ...   \n",
       "617  Amazon’s ad revenue is now twice as big as Sna...   \n",
       "\n",
       "                      Combined_text_Link+Emoji_Removed  \\\n",
       "0    ROKU up 28% shortly after IPO \\n\\n>The video s...   \n",
       "1    9/28 Thursday Stock Market Movers & News #Good...   \n",
       "2    WHEN TO SHORT ROKU this company does nothing n...   \n",
       "3           ROKU now listex on NASDAQ. Up 35% so far .   \n",
       "4    $ROKU IPO, to the moon...? Why isn't this thin...   \n",
       "..                                                 ...   \n",
       "613  $FUBO - Archegos, Misreported Earnings, and th...   \n",
       "614  Best Dip Stocks to buy right now Hey y'all,\\n\\...   \n",
       "615  The Only Watch List You Need May 13, 2021 *The...   \n",
       "616  PUBM DD #1  \\n\\nA little bit about myself for ...   \n",
       "617  Amazon’s ad revenue is now twice as big as Sna...   \n",
       "\n",
       "                       Combined_text_cleaned_lowercase  \\\n",
       "0    roku up 28% shortly after ipo >the video strea...   \n",
       "1    9/28 thursday stock market movers & news #good...   \n",
       "2    when to short roku this company does nothing n...   \n",
       "3           roku now listex on nasdaq. up 35% so far .   \n",
       "4    $roku ipo, to the moon...? why isn't this thin...   \n",
       "..                                                 ...   \n",
       "613  $fubo - archegos, misreported earnings, and th...   \n",
       "614  best dip stocks to buy right now hey y'all, i ...   \n",
       "615  the only watch list you need may 13, 2021 *the...   \n",
       "616  pubm dd #1 a little bit about myself for conte...   \n",
       "617  amazon’s ad revenue is now twice as big as sna...   \n",
       "\n",
       "                   Combined_text_cleaned_lower_NoPunct  \\\n",
       "0    roku up 28 shortly after ipo the video streami...   \n",
       "1    928 thursday stock market movers  news good mo...   \n",
       "2    when to short roku this company does nothing n...   \n",
       "3              roku now listex on nasdaq up 35 so far    \n",
       "4    roku ipo to the moon why isnt this thing avail...   \n",
       "..                                                 ...   \n",
       "613  fubo  archegos misreported earnings and the qu...   \n",
       "614  best dip stocks to buy right now hey yall i ha...   \n",
       "615  the only watch list you need may 13 2021 the o...   \n",
       "616  pubm dd 1 a little bit about myself for contex...   \n",
       "617  amazons ad revenue is now twice as big as snap...   \n",
       "\n",
       "                              Combined_text_FinalClean  \n",
       "0    roku 28 shortly ipo video streaming device mak...  \n",
       "1    928 thursday stock market movers news good mor...  \n",
       "2    short roku company nothing new think 24 short ...  \n",
       "3                            roku listex nasdaq 35 far  \n",
       "4       roku ipo moon isnt thing available pos brokers  \n",
       "..                                                 ...  \n",
       "613  fubo archegos misreported earnings quiet perio...  \n",
       "614  best dip stocks buy right hey yall alot cash l...  \n",
       "615  watch list need may 13 2021 original gap watch...  \n",
       "616  pubm dd 1 little bit context 1 work enterprise...  \n",
       "617  amazons ad revenue twice big snap twitter roku...  \n",
       "\n",
       "[618 rows x 10 columns]"
      ]
     },
     "execution_count": 11,
     "metadata": {},
     "output_type": "execute_result"
    }
   ],
   "source": [
    "R_df"
   ]
  },
  {
   "cell_type": "code",
   "execution_count": 12,
   "metadata": {
    "ExecuteTime": {
     "end_time": "2021-06-15T23:43:30.094105Z",
     "start_time": "2021-06-15T23:43:30.085825Z"
    },
    "hidden": true
   },
   "outputs": [
    {
     "data": {
      "text/plain": [
       "'ROKU up 28% shortly after IPO \\n\\n>The video streaming device maker had late Wednesday set its initial public offering price at $14 per share, or a market value of $1.3 billion.\\n\\n>The stock of video streaming device maker Roku rose in its stock market debut on Thursday. It opened just after 10:35 a.m. ET at $15.78, up 12.7 percent.\\n\\n>About 10 minutes later, it was up 28 percent at $17.94.\\n\\n>The company had recently filed for an initial public offering and late Wednesday had set its IPO price at $14 per share, which raised about $219 million and made for a market value of $1.3 billion.\\n\\n>The  Los Gatos, Calif.-based company, which makes TV set-top boxes and other devices, listed its stock on the Nasdaq under the ticker symbol ROKU. Its filing have shown that Roku lost $42.8 million in 2016 on nearly $399 million in revenue, up 25 percent from 2015.\\n\\n>Roku, led by CEO Anthony Wood, has also disclosed that its users streamed more than 6.7 billion hours of programming on its platform during the first half of 2017, a 67 percent increase in streaming time from the same period a year earlier.\\n\\n>Since launching its first device in 2008, Roku has become a market leader for devices that help people stream content directly through their TV sets. Its set-top boxes and streaming sticks cost from $30 to $110. In addition, while it also sells connected TV sets, known as Roku TVs, through partners such as TCL and Sharp.\\n\\n>Roku has always given consumers the choice of which apps they want to download. The company says that Netflix accounted for about one-third of all hours streamed during the first six months of this year, but that revenue generated from Netflix was not material to its overall financial performance during the period. Roku does make money by sharing advertising revenue with some of the apps it carries.\\n\\n>Roku previously raised more than $200 million from investors such as News Corp, Viacom, Sky and Hearst.'"
      ]
     },
     "execution_count": 12,
     "metadata": {},
     "output_type": "execute_result"
    }
   ],
   "source": [
    "R_df.iloc[0]['Combined_text_LinksRemoved']"
   ]
  },
  {
   "cell_type": "markdown",
   "metadata": {
    "heading_collapsed": true
   },
   "source": [
    "# Exploring sentiment analysis, Vader"
   ]
  },
  {
   "cell_type": "code",
   "execution_count": 13,
   "metadata": {
    "ExecuteTime": {
     "end_time": "2021-06-15T23:43:30.123486Z",
     "start_time": "2021-06-15T23:43:30.098288Z"
    },
    "hidden": true
   },
   "outputs": [
    {
     "name": "stdout",
     "output_type": "stream",
     "text": [
      "Maximum points for a word/emoticon 3.4\n",
      "Minimum points for a word/emoticon -3.9\n"
     ]
    }
   ],
   "source": [
    "# Figuring out the max and min of the scores in the lexicon\n",
    "SIA = SentimentIntensityAnalyzer()\n",
    "\n",
    "maxi = 0\n",
    "mini = 0\n",
    "\n",
    "for k,v in SIA.lexicon.items():\n",
    "\n",
    "    if v > maxi:\n",
    "        maxi = v\n",
    "    if v < mini:\n",
    "        mini = v\n",
    "        \n",
    "print('Maximum points for a word/emoticon', maxi)\n",
    "print('Minimum points for a word/emoticon', mini)"
   ]
  },
  {
   "cell_type": "markdown",
   "metadata": {
    "hidden": true
   },
   "source": [
    "Added custom words with scores as either the maximum or minimum in the Sentiment Function located earlier in the notebook. Vader can take in emoji's, going to try a tweet examples with an emoji and without the emojis to see which one is more accurate."
   ]
  },
  {
   "cell_type": "code",
   "execution_count": 14,
   "metadata": {
    "ExecuteTime": {
     "end_time": "2021-06-15T23:43:30.176938Z",
     "start_time": "2021-06-15T23:43:30.127122Z"
    },
    "hidden": true
   },
   "outputs": [
    {
     "data": {
      "text/plain": [
       "\"$1900 in 10 minutes on $ROKU, so glad the market is picking up with multiple runners literally everyday. I really hope this doesn't stop🙏🏼😁  \""
      ]
     },
     "execution_count": 14,
     "metadata": {},
     "output_type": "execute_result"
    }
   ],
   "source": [
    "# Tweet with the links removed\n",
    "T_df.iloc[0]['tweet_LinkRemoved']"
   ]
  },
  {
   "cell_type": "code",
   "execution_count": 15,
   "metadata": {
    "ExecuteTime": {
     "end_time": "2021-06-15T23:43:30.258590Z",
     "start_time": "2021-06-15T23:43:30.195252Z"
    },
    "hidden": true
   },
   "outputs": [
    {
     "name": "stdout",
     "output_type": "stream",
     "text": [
      "Score with the emoji:  0.8989\n",
      "Score without the emoji:  0.838\n"
     ]
    }
   ],
   "source": [
    "print('Score with the emoji: ',Sentiment(T_df.iloc[0]['tweet_LinkRemoved']))\n",
    "print('Score without the emoji: ',Sentiment(T_df.iloc[0]['tweet_Link+Emoji_Removed']))"
   ]
  },
  {
   "cell_type": "markdown",
   "metadata": {
    "hidden": true
   },
   "source": [
    "It looks like the tweet with the emoji is more accurate, for future sentiment analysis the emoji's will be used in the text."
   ]
  },
  {
   "cell_type": "markdown",
   "metadata": {
    "heading_collapsed": true
   },
   "source": [
    "# Combining Reddit and Twitter Data"
   ]
  },
  {
   "cell_type": "code",
   "execution_count": 16,
   "metadata": {
    "ExecuteTime": {
     "end_time": "2021-06-15T23:43:30.360171Z",
     "start_time": "2021-06-15T23:43:30.292266Z"
    },
    "hidden": true
   },
   "outputs": [
    {
     "data": {
      "text/html": [
       "<div>\n",
       "<style scoped>\n",
       "    .dataframe tbody tr th:only-of-type {\n",
       "        vertical-align: middle;\n",
       "    }\n",
       "\n",
       "    .dataframe tbody tr th {\n",
       "        vertical-align: top;\n",
       "    }\n",
       "\n",
       "    .dataframe thead th {\n",
       "        text-align: right;\n",
       "    }\n",
       "</style>\n",
       "<table border=\"1\" class=\"dataframe\">\n",
       "  <thead>\n",
       "    <tr style=\"text-align: right;\">\n",
       "      <th></th>\n",
       "      <th>date</th>\n",
       "      <th>tweet</th>\n",
       "      <th>tweet_LinkRemoved</th>\n",
       "      <th>tweet_Link+Emoji_Removed</th>\n",
       "      <th>tweet_cleaned_lowercase</th>\n",
       "      <th>tweet_cleaned_lower_NoPunct</th>\n",
       "      <th>tweet_FinalClean</th>\n",
       "    </tr>\n",
       "  </thead>\n",
       "  <tbody>\n",
       "    <tr>\n",
       "      <th>0</th>\n",
       "      <td>2017-09-29</td>\n",
       "      <td>$1900 in 10 minutes on $ROKU, so glad the mark...</td>\n",
       "      <td>$1900 in 10 minutes on $ROKU, so glad the mark...</td>\n",
       "      <td>$1900 in 10 minutes on $ROKU, so glad the mark...</td>\n",
       "      <td>$1900 in 10 minutes on $roku, so glad the mark...</td>\n",
       "      <td>1900 in 10 minutes on roku so glad the market ...</td>\n",
       "      <td>1900 10 minutes roku glad market picking multi...</td>\n",
       "    </tr>\n",
       "    <tr>\n",
       "      <th>1</th>\n",
       "      <td>2017-09-29</td>\n",
       "      <td>$ROKU is already up almost 100% since its IPO....</td>\n",
       "      <td>$ROKU is already up almost 100% since its IPO....</td>\n",
       "      <td>$ROKU is already up almost 100% since its IPO....</td>\n",
       "      <td>$roku is already up almost 100% since its ipo....</td>\n",
       "      <td>roku is already up almost 100 since its ipo he...</td>\n",
       "      <td>roku already almost 100 since ipo heres went p...</td>\n",
       "    </tr>\n",
       "    <tr>\n",
       "      <th>2</th>\n",
       "      <td>2017-09-30</td>\n",
       "      <td>Mystified by $ROKU's IPO? @JimCramer's breakin...</td>\n",
       "      <td>Mystified by $ROKU's IPO? @JimCramer's breakin...</td>\n",
       "      <td>Mystified by $ROKU's IPO? @JimCramer's breakin...</td>\n",
       "      <td>mystified by $roku's ipo? @jimcramer's breakin...</td>\n",
       "      <td>mystified by rokus ipo jimcramers breaking it ...</td>\n",
       "      <td>mystified rokus ipo jimcramers breaking</td>\n",
       "    </tr>\n",
       "    <tr>\n",
       "      <th>3</th>\n",
       "      <td>2017-09-29</td>\n",
       "      <td>$ROKU Long. One Ticker, a few trades. Couldve ...</td>\n",
       "      <td>$ROKU Long. One Ticker, a few trades. Couldve ...</td>\n",
       "      <td>$ROKU Long. One Ticker, a few trades. Couldve ...</td>\n",
       "      <td>$roku long. one ticker, a few trades. couldve ...</td>\n",
       "      <td>roku long one ticker a few trades couldve done...</td>\n",
       "      <td>roku long one ticker trades couldve done lot b...</td>\n",
       "    </tr>\n",
       "    <tr>\n",
       "      <th>4</th>\n",
       "      <td>2017-09-29</td>\n",
       "      <td>Love #Pennystocks Nice Friday for my 2 account...</td>\n",
       "      <td>Love #Pennystocks Nice Friday for my 2 account...</td>\n",
       "      <td>Love #Pennystocks Nice Friday for my 2 account...</td>\n",
       "      <td>love #pennystocks nice friday for my 2 account...</td>\n",
       "      <td>love pennystocks nice friday for my 2 accounts...</td>\n",
       "      <td>love pennystocks nice friday 2 accounts 1200 v...</td>\n",
       "    </tr>\n",
       "  </tbody>\n",
       "</table>\n",
       "</div>"
      ],
      "text/plain": [
       "         date                                              tweet  \\\n",
       "0  2017-09-29  $1900 in 10 minutes on $ROKU, so glad the mark...   \n",
       "1  2017-09-29  $ROKU is already up almost 100% since its IPO....   \n",
       "2  2017-09-30  Mystified by $ROKU's IPO? @JimCramer's breakin...   \n",
       "3  2017-09-29  $ROKU Long. One Ticker, a few trades. Couldve ...   \n",
       "4  2017-09-29  Love #Pennystocks Nice Friday for my 2 account...   \n",
       "\n",
       "                                   tweet_LinkRemoved  \\\n",
       "0  $1900 in 10 minutes on $ROKU, so glad the mark...   \n",
       "1  $ROKU is already up almost 100% since its IPO....   \n",
       "2  Mystified by $ROKU's IPO? @JimCramer's breakin...   \n",
       "3  $ROKU Long. One Ticker, a few trades. Couldve ...   \n",
       "4  Love #Pennystocks Nice Friday for my 2 account...   \n",
       "\n",
       "                            tweet_Link+Emoji_Removed  \\\n",
       "0  $1900 in 10 minutes on $ROKU, so glad the mark...   \n",
       "1  $ROKU is already up almost 100% since its IPO....   \n",
       "2  Mystified by $ROKU's IPO? @JimCramer's breakin...   \n",
       "3  $ROKU Long. One Ticker, a few trades. Couldve ...   \n",
       "4  Love #Pennystocks Nice Friday for my 2 account...   \n",
       "\n",
       "                             tweet_cleaned_lowercase  \\\n",
       "0  $1900 in 10 minutes on $roku, so glad the mark...   \n",
       "1  $roku is already up almost 100% since its ipo....   \n",
       "2  mystified by $roku's ipo? @jimcramer's breakin...   \n",
       "3  $roku long. one ticker, a few trades. couldve ...   \n",
       "4  love #pennystocks nice friday for my 2 account...   \n",
       "\n",
       "                         tweet_cleaned_lower_NoPunct  \\\n",
       "0  1900 in 10 minutes on roku so glad the market ...   \n",
       "1  roku is already up almost 100 since its ipo he...   \n",
       "2  mystified by rokus ipo jimcramers breaking it ...   \n",
       "3  roku long one ticker a few trades couldve done...   \n",
       "4  love pennystocks nice friday for my 2 accounts...   \n",
       "\n",
       "                                    tweet_FinalClean  \n",
       "0  1900 10 minutes roku glad market picking multi...  \n",
       "1  roku already almost 100 since ipo heres went p...  \n",
       "2            mystified rokus ipo jimcramers breaking  \n",
       "3  roku long one ticker trades couldve done lot b...  \n",
       "4  love pennystocks nice friday 2 accounts 1200 v...  "
      ]
     },
     "execution_count": 16,
     "metadata": {},
     "output_type": "execute_result"
    }
   ],
   "source": [
    "T_df.head()"
   ]
  },
  {
   "cell_type": "code",
   "execution_count": 17,
   "metadata": {
    "ExecuteTime": {
     "end_time": "2021-06-15T23:43:30.431049Z",
     "start_time": "2021-06-15T23:43:30.373144Z"
    },
    "hidden": true
   },
   "outputs": [
    {
     "data": {
      "text/html": [
       "<div>\n",
       "<style scoped>\n",
       "    .dataframe tbody tr th:only-of-type {\n",
       "        vertical-align: middle;\n",
       "    }\n",
       "\n",
       "    .dataframe tbody tr th {\n",
       "        vertical-align: top;\n",
       "    }\n",
       "\n",
       "    .dataframe thead th {\n",
       "        text-align: right;\n",
       "    }\n",
       "</style>\n",
       "<table border=\"1\" class=\"dataframe\">\n",
       "  <thead>\n",
       "    <tr style=\"text-align: right;\">\n",
       "      <th></th>\n",
       "      <th>Date</th>\n",
       "      <th>Subreddit</th>\n",
       "      <th>Title</th>\n",
       "      <th>Self_text</th>\n",
       "      <th>Combined_text</th>\n",
       "      <th>Combined_text_LinksRemoved</th>\n",
       "      <th>Combined_text_Link+Emoji_Removed</th>\n",
       "      <th>Combined_text_cleaned_lowercase</th>\n",
       "      <th>Combined_text_cleaned_lower_NoPunct</th>\n",
       "      <th>Combined_text_FinalClean</th>\n",
       "    </tr>\n",
       "  </thead>\n",
       "  <tbody>\n",
       "    <tr>\n",
       "      <th>0</th>\n",
       "      <td>2017-09-28</td>\n",
       "      <td>investing</td>\n",
       "      <td>ROKU up 28% shortly after IPO</td>\n",
       "      <td>http://www.hollywoodreporter.com/news/roku-sto...</td>\n",
       "      <td>ROKU up 28% shortly after IPO http://www.holly...</td>\n",
       "      <td>ROKU up 28% shortly after IPO \\n\\n&gt;The video s...</td>\n",
       "      <td>ROKU up 28% shortly after IPO \\n\\n&gt;The video s...</td>\n",
       "      <td>roku up 28% shortly after ipo &gt;the video strea...</td>\n",
       "      <td>roku up 28 shortly after ipo the video streami...</td>\n",
       "      <td>roku 28 shortly ipo video streaming device mak...</td>\n",
       "    </tr>\n",
       "    <tr>\n",
       "      <th>1</th>\n",
       "      <td>2017-09-28</td>\n",
       "      <td>stocks</td>\n",
       "      <td>9/28 Thursday Stock Market Movers &amp; News</td>\n",
       "      <td>#Good morning traders of the r/stocks sub! Hap...</td>\n",
       "      <td>9/28 Thursday Stock Market Movers &amp; News #Good...</td>\n",
       "      <td>9/28 Thursday Stock Market Movers &amp; News #Good...</td>\n",
       "      <td>9/28 Thursday Stock Market Movers &amp; News #Good...</td>\n",
       "      <td>9/28 thursday stock market movers &amp; news #good...</td>\n",
       "      <td>928 thursday stock market movers  news good mo...</td>\n",
       "      <td>928 thursday stock market movers news good mor...</td>\n",
       "    </tr>\n",
       "    <tr>\n",
       "      <th>2</th>\n",
       "      <td>2017-09-28</td>\n",
       "      <td>wallstreetbets</td>\n",
       "      <td>WHEN TO SHORT ROKU</td>\n",
       "      <td>this company does nothing new, i think 24~ SHO...</td>\n",
       "      <td>WHEN TO SHORT ROKU this company does nothing n...</td>\n",
       "      <td>WHEN TO SHORT ROKU this company does nothing n...</td>\n",
       "      <td>WHEN TO SHORT ROKU this company does nothing n...</td>\n",
       "      <td>when to short roku this company does nothing n...</td>\n",
       "      <td>when to short roku this company does nothing n...</td>\n",
       "      <td>short roku company nothing new think 24 short ...</td>\n",
       "    </tr>\n",
       "    <tr>\n",
       "      <th>3</th>\n",
       "      <td>2017-09-28</td>\n",
       "      <td>wallstreetbets</td>\n",
       "      <td>ROKU now listex on NASDAQ. Up 35% so far</td>\n",
       "      <td>.</td>\n",
       "      <td>ROKU now listex on NASDAQ. Up 35% so far .</td>\n",
       "      <td>ROKU now listex on NASDAQ. Up 35% so far .</td>\n",
       "      <td>ROKU now listex on NASDAQ. Up 35% so far .</td>\n",
       "      <td>roku now listex on nasdaq. up 35% so far .</td>\n",
       "      <td>roku now listex on nasdaq up 35 so far</td>\n",
       "      <td>roku listex nasdaq 35 far</td>\n",
       "    </tr>\n",
       "    <tr>\n",
       "      <th>4</th>\n",
       "      <td>2017-09-28</td>\n",
       "      <td>wallstreetbets</td>\n",
       "      <td>$ROKU IPO, to the moon...?</td>\n",
       "      <td>Why isn't this thing available on my POS broke...</td>\n",
       "      <td>$ROKU IPO, to the moon...? Why isn't this thin...</td>\n",
       "      <td>$ROKU IPO, to the moon...? Why isn't this thin...</td>\n",
       "      <td>$ROKU IPO, to the moon...? Why isn't this thin...</td>\n",
       "      <td>$roku ipo, to the moon...? why isn't this thin...</td>\n",
       "      <td>roku ipo to the moon why isnt this thing avail...</td>\n",
       "      <td>roku ipo moon isnt thing available pos brokers</td>\n",
       "    </tr>\n",
       "  </tbody>\n",
       "</table>\n",
       "</div>"
      ],
      "text/plain": [
       "         Date       Subreddit                                     Title  \\\n",
       "0  2017-09-28       investing             ROKU up 28% shortly after IPO   \n",
       "1  2017-09-28          stocks  9/28 Thursday Stock Market Movers & News   \n",
       "2  2017-09-28  wallstreetbets                        WHEN TO SHORT ROKU   \n",
       "3  2017-09-28  wallstreetbets  ROKU now listex on NASDAQ. Up 35% so far   \n",
       "4  2017-09-28  wallstreetbets                $ROKU IPO, to the moon...?   \n",
       "\n",
       "                                           Self_text  \\\n",
       "0  http://www.hollywoodreporter.com/news/roku-sto...   \n",
       "1  #Good morning traders of the r/stocks sub! Hap...   \n",
       "2  this company does nothing new, i think 24~ SHO...   \n",
       "3                                                  .   \n",
       "4  Why isn't this thing available on my POS broke...   \n",
       "\n",
       "                                       Combined_text  \\\n",
       "0  ROKU up 28% shortly after IPO http://www.holly...   \n",
       "1  9/28 Thursday Stock Market Movers & News #Good...   \n",
       "2  WHEN TO SHORT ROKU this company does nothing n...   \n",
       "3         ROKU now listex on NASDAQ. Up 35% so far .   \n",
       "4  $ROKU IPO, to the moon...? Why isn't this thin...   \n",
       "\n",
       "                          Combined_text_LinksRemoved  \\\n",
       "0  ROKU up 28% shortly after IPO \\n\\n>The video s...   \n",
       "1  9/28 Thursday Stock Market Movers & News #Good...   \n",
       "2  WHEN TO SHORT ROKU this company does nothing n...   \n",
       "3         ROKU now listex on NASDAQ. Up 35% so far .   \n",
       "4  $ROKU IPO, to the moon...? Why isn't this thin...   \n",
       "\n",
       "                    Combined_text_Link+Emoji_Removed  \\\n",
       "0  ROKU up 28% shortly after IPO \\n\\n>The video s...   \n",
       "1  9/28 Thursday Stock Market Movers & News #Good...   \n",
       "2  WHEN TO SHORT ROKU this company does nothing n...   \n",
       "3         ROKU now listex on NASDAQ. Up 35% so far .   \n",
       "4  $ROKU IPO, to the moon...? Why isn't this thin...   \n",
       "\n",
       "                     Combined_text_cleaned_lowercase  \\\n",
       "0  roku up 28% shortly after ipo >the video strea...   \n",
       "1  9/28 thursday stock market movers & news #good...   \n",
       "2  when to short roku this company does nothing n...   \n",
       "3         roku now listex on nasdaq. up 35% so far .   \n",
       "4  $roku ipo, to the moon...? why isn't this thin...   \n",
       "\n",
       "                 Combined_text_cleaned_lower_NoPunct  \\\n",
       "0  roku up 28 shortly after ipo the video streami...   \n",
       "1  928 thursday stock market movers  news good mo...   \n",
       "2  when to short roku this company does nothing n...   \n",
       "3            roku now listex on nasdaq up 35 so far    \n",
       "4  roku ipo to the moon why isnt this thing avail...   \n",
       "\n",
       "                            Combined_text_FinalClean  \n",
       "0  roku 28 shortly ipo video streaming device mak...  \n",
       "1  928 thursday stock market movers news good mor...  \n",
       "2  short roku company nothing new think 24 short ...  \n",
       "3                          roku listex nasdaq 35 far  \n",
       "4     roku ipo moon isnt thing available pos brokers  "
      ]
     },
     "execution_count": 17,
     "metadata": {},
     "output_type": "execute_result"
    }
   ],
   "source": [
    "R_df.head()"
   ]
  },
  {
   "cell_type": "code",
   "execution_count": 18,
   "metadata": {
    "ExecuteTime": {
     "end_time": "2021-06-15T23:43:30.481666Z",
     "start_time": "2021-06-15T23:43:30.443630Z"
    },
    "hidden": true
   },
   "outputs": [],
   "source": [
    "# Combining the Twitter dataframe and the Reddit Dataframe\n",
    "temp_T_df = T_df[['date','tweet_LinkRemoved']].copy()\n",
    "temp_T_df.columns = ['Date','Text']\n",
    "\n",
    "temp_R_df = R_df[['Date','Combined_text_LinksRemoved']].copy()\n",
    "temp_R_df.columns = ['Date','Text']\n",
    "\n",
    "Sentiment_df = pd.concat([temp_T_df,temp_R_df])"
   ]
  },
  {
   "cell_type": "code",
   "execution_count": 19,
   "metadata": {
    "ExecuteTime": {
     "end_time": "2021-06-15T23:43:30.513400Z",
     "start_time": "2021-06-15T23:43:30.487117Z"
    },
    "hidden": true
   },
   "outputs": [
    {
     "name": "stdout",
     "output_type": "stream",
     "text": [
      "Check to see if combination worked.\n",
      "Twitter dataframe number of entries:  565\n",
      "Reddit dataframe number of entries:  618\n",
      "Combined dataframe number of entries:  1183\n"
     ]
    }
   ],
   "source": [
    "print('Check to see if combination worked.')\n",
    "print('Twitter dataframe number of entries: ', len(T_df))\n",
    "print('Reddit dataframe number of entries: ', len(R_df))\n",
    "print('Combined dataframe number of entries: ', len(Sentiment_df))"
   ]
  },
  {
   "cell_type": "markdown",
   "metadata": {},
   "source": [
    "# Running the sentiment function to find sentiment scores"
   ]
  },
  {
   "cell_type": "code",
   "execution_count": 44,
   "metadata": {
    "ExecuteTime": {
     "end_time": "2021-06-15T23:58:38.403656Z",
     "start_time": "2021-06-15T23:57:32.488648Z"
    }
   },
   "outputs": [],
   "source": [
    "Sentiment_df['Score'] = Sentiment_df.Text.apply(lambda x: Sentiment(x))"
   ]
  },
  {
   "cell_type": "code",
   "execution_count": 45,
   "metadata": {
    "ExecuteTime": {
     "end_time": "2021-06-15T23:58:38.860370Z",
     "start_time": "2021-06-15T23:58:38.839935Z"
    }
   },
   "outputs": [
    {
     "data": {
      "text/html": [
       "<div>\n",
       "<style scoped>\n",
       "    .dataframe tbody tr th:only-of-type {\n",
       "        vertical-align: middle;\n",
       "    }\n",
       "\n",
       "    .dataframe tbody tr th {\n",
       "        vertical-align: top;\n",
       "    }\n",
       "\n",
       "    .dataframe thead th {\n",
       "        text-align: right;\n",
       "    }\n",
       "</style>\n",
       "<table border=\"1\" class=\"dataframe\">\n",
       "  <thead>\n",
       "    <tr style=\"text-align: right;\">\n",
       "      <th></th>\n",
       "      <th>Date</th>\n",
       "      <th>Text</th>\n",
       "      <th>Score</th>\n",
       "    </tr>\n",
       "  </thead>\n",
       "  <tbody>\n",
       "    <tr>\n",
       "      <th>0</th>\n",
       "      <td>2017-09-29</td>\n",
       "      <td>$1900 in 10 minutes on $ROKU, so glad the mark...</td>\n",
       "      <td>0.8989</td>\n",
       "    </tr>\n",
       "    <tr>\n",
       "      <th>1</th>\n",
       "      <td>2017-09-29</td>\n",
       "      <td>$ROKU is already up almost 100% since its IPO....</td>\n",
       "      <td>0.0000</td>\n",
       "    </tr>\n",
       "    <tr>\n",
       "      <th>2</th>\n",
       "      <td>2017-09-30</td>\n",
       "      <td>Mystified by $ROKU's IPO? @JimCramer's breakin...</td>\n",
       "      <td>0.0000</td>\n",
       "    </tr>\n",
       "    <tr>\n",
       "      <th>3</th>\n",
       "      <td>2017-09-29</td>\n",
       "      <td>$ROKU Long. One Ticker, a few trades. Couldve ...</td>\n",
       "      <td>0.5647</td>\n",
       "    </tr>\n",
       "    <tr>\n",
       "      <th>4</th>\n",
       "      <td>2017-09-29</td>\n",
       "      <td>Love #Pennystocks Nice Friday for my 2 account...</td>\n",
       "      <td>0.9222</td>\n",
       "    </tr>\n",
       "    <tr>\n",
       "      <th>...</th>\n",
       "      <td>...</td>\n",
       "      <td>...</td>\n",
       "      <td>...</td>\n",
       "    </tr>\n",
       "    <tr>\n",
       "      <th>613</th>\n",
       "      <td>2021-05-11</td>\n",
       "      <td>$FUBO - Archegos, Misreported Earnings, and th...</td>\n",
       "      <td>0.8991</td>\n",
       "    </tr>\n",
       "    <tr>\n",
       "      <th>614</th>\n",
       "      <td>2021-05-12</td>\n",
       "      <td>Best Dip Stocks to buy right now Hey y'all,\\n\\...</td>\n",
       "      <td>0.9050</td>\n",
       "    </tr>\n",
       "    <tr>\n",
       "      <th>615</th>\n",
       "      <td>2021-05-13</td>\n",
       "      <td>The Only Watch List You Need May 13, 2021 *The...</td>\n",
       "      <td>0.9868</td>\n",
       "    </tr>\n",
       "    <tr>\n",
       "      <th>616</th>\n",
       "      <td>2021-05-20</td>\n",
       "      <td>PUBM DD #1  \\n\\nA little bit about myself for ...</td>\n",
       "      <td>0.9992</td>\n",
       "    </tr>\n",
       "    <tr>\n",
       "      <th>617</th>\n",
       "      <td>2021-05-25</td>\n",
       "      <td>Amazon’s ad revenue is now twice as big as Sna...</td>\n",
       "      <td>0.9866</td>\n",
       "    </tr>\n",
       "  </tbody>\n",
       "</table>\n",
       "<p>1183 rows × 3 columns</p>\n",
       "</div>"
      ],
      "text/plain": [
       "           Date                                               Text   Score\n",
       "0    2017-09-29  $1900 in 10 minutes on $ROKU, so glad the mark...  0.8989\n",
       "1    2017-09-29  $ROKU is already up almost 100% since its IPO....  0.0000\n",
       "2    2017-09-30  Mystified by $ROKU's IPO? @JimCramer's breakin...  0.0000\n",
       "3    2017-09-29  $ROKU Long. One Ticker, a few trades. Couldve ...  0.5647\n",
       "4    2017-09-29  Love #Pennystocks Nice Friday for my 2 account...  0.9222\n",
       "..          ...                                                ...     ...\n",
       "613  2021-05-11  $FUBO - Archegos, Misreported Earnings, and th...  0.8991\n",
       "614  2021-05-12  Best Dip Stocks to buy right now Hey y'all,\\n\\...  0.9050\n",
       "615  2021-05-13  The Only Watch List You Need May 13, 2021 *The...  0.9868\n",
       "616  2021-05-20  PUBM DD #1  \\n\\nA little bit about myself for ...  0.9992\n",
       "617  2021-05-25  Amazon’s ad revenue is now twice as big as Sna...  0.9866\n",
       "\n",
       "[1183 rows x 3 columns]"
      ]
     },
     "execution_count": 45,
     "metadata": {},
     "output_type": "execute_result"
    }
   ],
   "source": [
    "Sentiment_df"
   ]
  },
  {
   "cell_type": "code",
   "execution_count": 46,
   "metadata": {
    "ExecuteTime": {
     "end_time": "2021-06-15T23:58:39.331386Z",
     "start_time": "2021-06-15T23:58:39.308521Z"
    }
   },
   "outputs": [
    {
     "data": {
      "text/html": [
       "<div>\n",
       "<style scoped>\n",
       "    .dataframe tbody tr th:only-of-type {\n",
       "        vertical-align: middle;\n",
       "    }\n",
       "\n",
       "    .dataframe tbody tr th {\n",
       "        vertical-align: top;\n",
       "    }\n",
       "\n",
       "    .dataframe thead th {\n",
       "        text-align: right;\n",
       "    }\n",
       "</style>\n",
       "<table border=\"1\" class=\"dataframe\">\n",
       "  <thead>\n",
       "    <tr style=\"text-align: right;\">\n",
       "      <th></th>\n",
       "      <th>Date</th>\n",
       "      <th>Text</th>\n",
       "      <th>Score</th>\n",
       "    </tr>\n",
       "  </thead>\n",
       "  <tbody>\n",
       "    <tr>\n",
       "      <th>1</th>\n",
       "      <td>2017-09-29</td>\n",
       "      <td>$ROKU is already up almost 100% since its IPO....</td>\n",
       "      <td>0.0</td>\n",
       "    </tr>\n",
       "    <tr>\n",
       "      <th>2</th>\n",
       "      <td>2017-09-30</td>\n",
       "      <td>Mystified by $ROKU's IPO? @JimCramer's breakin...</td>\n",
       "      <td>0.0</td>\n",
       "    </tr>\n",
       "    <tr>\n",
       "      <th>15</th>\n",
       "      <td>2017-12-08</td>\n",
       "      <td>$ROKU Next week there will be a big storm in S...</td>\n",
       "      <td>0.0</td>\n",
       "    </tr>\n",
       "    <tr>\n",
       "      <th>23</th>\n",
       "      <td>2017-12-22</td>\n",
       "      <td>First time since after $ROKU earnings in Nov n...</td>\n",
       "      <td>0.0</td>\n",
       "    </tr>\n",
       "    <tr>\n",
       "      <th>24</th>\n",
       "      <td>2017-12-30</td>\n",
       "      <td>Oh, what a year. 📈  #BestOf2017 stocks from IB...</td>\n",
       "      <td>0.0</td>\n",
       "    </tr>\n",
       "    <tr>\n",
       "      <th>...</th>\n",
       "      <td>...</td>\n",
       "      <td>...</td>\n",
       "      <td>...</td>\n",
       "    </tr>\n",
       "    <tr>\n",
       "      <th>478</th>\n",
       "      <td>2020-12-01</td>\n",
       "      <td>$ROKU I can’t quit you .</td>\n",
       "      <td>0.0</td>\n",
       "    </tr>\n",
       "    <tr>\n",
       "      <th>502</th>\n",
       "      <td>2020-12-24</td>\n",
       "      <td>Finally upgraded to the next leve(nio, Roku, e...</td>\n",
       "      <td>0.0</td>\n",
       "    </tr>\n",
       "    <tr>\n",
       "      <th>512</th>\n",
       "      <td>2021-01-05</td>\n",
       "      <td>Quibi Selling Catalog To Roku: Report .</td>\n",
       "      <td>0.0</td>\n",
       "    </tr>\n",
       "    <tr>\n",
       "      <th>531</th>\n",
       "      <td>2021-01-20</td>\n",
       "      <td>$NFLX $DIS $ROKU Streaming Services Comparison...</td>\n",
       "      <td>0.0</td>\n",
       "    </tr>\n",
       "    <tr>\n",
       "      <th>555</th>\n",
       "      <td>2021-02-12</td>\n",
       "      <td>Earnings for the week of 2/15/2021 with Option...</td>\n",
       "      <td>0.0</td>\n",
       "    </tr>\n",
       "  </tbody>\n",
       "</table>\n",
       "<p>173 rows × 3 columns</p>\n",
       "</div>"
      ],
      "text/plain": [
       "           Date                                               Text  Score\n",
       "1    2017-09-29  $ROKU is already up almost 100% since its IPO....    0.0\n",
       "2    2017-09-30  Mystified by $ROKU's IPO? @JimCramer's breakin...    0.0\n",
       "15   2017-12-08  $ROKU Next week there will be a big storm in S...    0.0\n",
       "23   2017-12-22  First time since after $ROKU earnings in Nov n...    0.0\n",
       "24   2017-12-30  Oh, what a year. 📈  #BestOf2017 stocks from IB...    0.0\n",
       "..          ...                                                ...    ...\n",
       "478  2020-12-01                           $ROKU I can’t quit you .    0.0\n",
       "502  2020-12-24  Finally upgraded to the next leve(nio, Roku, e...    0.0\n",
       "512  2021-01-05            Quibi Selling Catalog To Roku: Report .    0.0\n",
       "531  2021-01-20  $NFLX $DIS $ROKU Streaming Services Comparison...    0.0\n",
       "555  2021-02-12  Earnings for the week of 2/15/2021 with Option...    0.0\n",
       "\n",
       "[173 rows x 3 columns]"
      ]
     },
     "execution_count": 46,
     "metadata": {},
     "output_type": "execute_result"
    }
   ],
   "source": [
    "Text_to_check = Sentiment_df[Sentiment_df['Score'] == 0]\n",
    "Text_to_check"
   ]
  },
  {
   "cell_type": "code",
   "execution_count": 55,
   "metadata": {
    "ExecuteTime": {
     "end_time": "2021-06-16T00:05:26.633301Z",
     "start_time": "2021-06-16T00:05:26.626920Z"
    }
   },
   "outputs": [
    {
     "name": "stdout",
     "output_type": "stream",
     "text": [
      "Texts from  173  had a sentiment score of 0 (they analyzer did not understand or they were neutral).\n",
      "That is  14.623837700760777 % of the entries we have.\n"
     ]
    }
   ],
   "source": [
    "print('Texts from ',len(Text_to_check),' had a sentiment score of 0 (they analyzer did not understand or they were neutral).')\n",
    "print('That is ', len(Text_to_check)/len(Sentiment_df)*100,'% of the entries we have.')"
   ]
  },
  {
   "cell_type": "markdown",
   "metadata": {},
   "source": [
    "# Combining the scores for each day"
   ]
  },
  {
   "cell_type": "code",
   "execution_count": 56,
   "metadata": {
    "ExecuteTime": {
     "end_time": "2021-06-16T01:16:01.297259Z",
     "start_time": "2021-06-16T01:16:01.284920Z"
    }
   },
   "outputs": [
    {
     "data": {
      "text/plain": [
       "2021-02-19    8\n",
       "2020-12-24    8\n",
       "2019-12-24    8\n",
       "2020-12-18    8\n",
       "2020-04-17    8\n",
       "             ..\n",
       "2020-10-13    1\n",
       "2020-08-17    1\n",
       "2019-03-26    1\n",
       "2018-05-09    1\n",
       "2019-09-28    1\n",
       "Name: Date, Length: 519, dtype: int64"
      ]
     },
     "execution_count": 56,
     "metadata": {},
     "output_type": "execute_result"
    }
   ],
   "source": []
  },
  {
   "cell_type": "code",
   "execution_count": null,
   "metadata": {},
   "outputs": [],
   "source": []
  }
 ],
 "metadata": {
  "kernelspec": {
   "display_name": "Python [conda env:Capstone] *",
   "language": "python",
   "name": "conda-env-Capstone-py"
  },
  "language_info": {
   "codemirror_mode": {
    "name": "ipython",
    "version": 3
   },
   "file_extension": ".py",
   "mimetype": "text/x-python",
   "name": "python",
   "nbconvert_exporter": "python",
   "pygments_lexer": "ipython3",
   "version": "3.6.9"
  },
  "toc": {
   "base_numbering": 1,
   "nav_menu": {},
   "number_sections": true,
   "sideBar": true,
   "skip_h1_title": false,
   "title_cell": "Table of Contents",
   "title_sidebar": "Contents",
   "toc_cell": false,
   "toc_position": {},
   "toc_section_display": true,
   "toc_window_display": false
  },
  "varInspector": {
   "cols": {
    "lenName": 16,
    "lenType": 16,
    "lenVar": 40
   },
   "kernels_config": {
    "python": {
     "delete_cmd_postfix": "",
     "delete_cmd_prefix": "del ",
     "library": "var_list.py",
     "varRefreshCmd": "print(var_dic_list())"
    },
    "r": {
     "delete_cmd_postfix": ") ",
     "delete_cmd_prefix": "rm(",
     "library": "var_list.r",
     "varRefreshCmd": "cat(var_dic_list()) "
    }
   },
   "types_to_exclude": [
    "module",
    "function",
    "builtin_function_or_method",
    "instance",
    "_Feature"
   ],
   "window_display": false
  }
 },
 "nbformat": 4,
 "nbformat_minor": 2
}
